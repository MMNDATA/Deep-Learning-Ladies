{
  "cells": [
    {
      "cell_type": "markdown",
      "source": [
        " Deep Learning Begins:\n",
        " Assignment 1\n",
        " Task 1 Implement 2-layer MLP for MNIST dataset"
      ],
      "metadata": {
        "id": "87X8AWAGTugM"
      },
      "id": "87X8AWAGTugM"
    },
    {
      "cell_type": "markdown",
      "source": [
        "Import the needed libraries"
      ],
      "metadata": {
        "id": "LYuBECAxT4da"
      },
      "id": "LYuBECAxT4da"
    },
    {
      "cell_type": "code",
      "execution_count": 1,
      "id": "4c606efc",
      "metadata": {
        "id": "4c606efc"
      },
      "outputs": [],
      "source": [
        "import tensorflow as tf\n",
        "import numpy as np\n",
        "import pandas as pd \n",
        "import os\n",
        "import seaborn as sns\n",
        "import matplotlib.pyplot as plt\n",
        "%matplotlib inline"
      ]
    },
    {
      "cell_type": "markdown",
      "source": [
        "Load, concatenate, and then properly split dataset (70/30)"
      ],
      "metadata": {
        "id": "uQ61vsbKUL1A"
      },
      "id": "uQ61vsbKUL1A"
    },
    {
      "cell_type": "code",
      "execution_count": 2,
      "id": "6c9847c7",
      "metadata": {
        "colab": {
          "base_uri": "https://localhost:8080/"
        },
        "id": "6c9847c7",
        "outputId": "89a63ae5-96bc-47ae-f433-d57223f12763"
      },
      "outputs": [
        {
          "output_type": "stream",
          "name": "stdout",
          "text": [
            "Downloading data from https://storage.googleapis.com/tensorflow/tf-keras-datasets/mnist.npz\n",
            "11490434/11490434 [==============================] - 2s 0us/step\n"
          ]
        }
      ],
      "source": [
        "(x_train, y_train), (x_test, y_test) = tf.keras.datasets.mnist.load_data()\n",
        "X = np.concatenate([x_train, x_test])\n",
        "y = np.concatenate([y_train, y_test])\n",
        "\n",
        "#then split using train_test_split\n",
        "from sklearn.model_selection import train_test_split\n",
        "x_train, x_test, y_train, y_test = train_test_split(X, y, test_size=(0.3))"
      ]
    },
    {
      "cell_type": "code",
      "execution_count": 3,
      "id": "b99a64f9",
      "metadata": {
        "colab": {
          "base_uri": "https://localhost:8080/"
        },
        "id": "b99a64f9",
        "outputId": "585ea0dd-4920-4115-e752-6bcac6692b95"
      },
      "outputs": [
        {
          "output_type": "stream",
          "name": "stdout",
          "text": [
            "Class label of first image : 9\n",
            "After converting the output into a vector :  [0. 0. 0. 0. 0. 0. 0. 0. 0. 1.]\n"
          ]
        }
      ],
      "source": [
        "# Python starts with 0 so if label is 5 one-hot encoding will show it in 6th place\n",
        "\n",
        "# Here we have a class number for each image\n",
        "print(\"Class label of first image :\", y_train[0])\n",
        "\n",
        "# Convert to One-Hot Encoding\n",
        "y_train = tf.keras.utils.to_categorical(y_train, 10) \n",
        "y_test = tf.keras.utils.to_categorical(y_test, 10)\n",
        "\n",
        "print(\"After converting the output into a vector : \",y_train[0])"
      ]
    },
    {
      "cell_type": "code",
      "execution_count": 4,
      "id": "43df29e3",
      "metadata": {
        "colab": {
          "base_uri": "https://localhost:8080/"
        },
        "id": "43df29e3",
        "outputId": "b070b17b-6c1a-455b-bd82-e41a013aebdb"
      },
      "outputs": [
        {
          "output_type": "execute_result",
          "data": {
            "text/plain": [
              "(0, 255)"
            ]
          },
          "metadata": {},
          "execution_count": 4
        }
      ],
      "source": [
        "# Inspect the image pixel value\n",
        "x_train[0].min(), x_train[0].max()"
      ]
    },
    {
      "cell_type": "code",
      "execution_count": 5,
      "id": "d97aa082",
      "metadata": {
        "colab": {
          "base_uri": "https://localhost:8080/"
        },
        "id": "d97aa082",
        "outputId": "3bda0cc6-c8b6-4ce4-edbd-cd44b372d52e"
      },
      "outputs": [
        {
          "output_type": "execute_result",
          "data": {
            "text/plain": [
              "(0.0, 1.0)"
            ]
          },
          "metadata": {},
          "execution_count": 5
        }
      ],
      "source": [
        "# Normalize the data between [0,1]\n",
        "\n",
        "x_train = x_train/255.0\n",
        "x_test = x_test/255.0\n",
        "\n",
        "x_train[0].min(), x_train[0].max()"
      ]
    },
    {
      "cell_type": "code",
      "execution_count": 6,
      "id": "84ebd8c2",
      "metadata": {
        "colab": {
          "base_uri": "https://localhost:8080/"
        },
        "id": "84ebd8c2",
        "outputId": "e4cf1df5-d5bb-4a99-848c-8782a9cea252"
      },
      "outputs": [
        {
          "output_type": "execute_result",
          "data": {
            "text/plain": [
              "((49000, 28, 28), (21000, 28, 28), (49000, 10), (21000, 10))"
            ]
          },
          "metadata": {},
          "execution_count": 6
        }
      ],
      "source": [
        "# Check the shapes of the data\n",
        "\n",
        "x_train.shape, x_test.shape, y_train.shape, y_test.shape"
      ]
    },
    {
      "cell_type": "code",
      "execution_count": 7,
      "id": "6dda4d88",
      "metadata": {
        "colab": {
          "base_uri": "https://localhost:8080/"
        },
        "id": "6dda4d88",
        "outputId": "ca4b85ae-0b14-4a43-b824-991d9ea33c92"
      },
      "outputs": [
        {
          "output_type": "execute_result",
          "data": {
            "text/plain": [
              "((49000, 784), (21000, 784), (49000, 10), (21000, 10))"
            ]
          },
          "metadata": {},
          "execution_count": 7
        }
      ],
      "source": [
        "# Reshape so each 'dataset' above is flattened into one vector \n",
        "\n",
        "x_train = x_train.reshape(-1, 28*28)\n",
        "x_test = x_test.reshape(-1, 28*28)\n",
        "\n",
        "\n",
        "x_train.shape, x_test.shape, y_train.shape, y_test.shape"
      ]
    },
    {
      "cell_type": "code",
      "execution_count": 8,
      "id": "898bc671",
      "metadata": {
        "colab": {
          "base_uri": "https://localhost:8080/"
        },
        "id": "898bc671",
        "outputId": "91412338-9b28-463a-cfcc-b019d3044b98"
      },
      "outputs": [
        {
          "output_type": "stream",
          "name": "stdout",
          "text": [
            "Model: \"sequential\"\n",
            "_________________________________________________________________\n",
            " Layer (type)                Output Shape              Param #   \n",
            "=================================================================\n",
            " dense (Dense)               (None, 100)               78500     \n",
            "                                                                 \n",
            " dense_1 (Dense)             (None, 100)               10100     \n",
            "                                                                 \n",
            " dense_2 (Dense)             (None, 10)                1010      \n",
            "                                                                 \n",
            "=================================================================\n",
            "Total params: 89,610\n",
            "Trainable params: 89,610\n",
            "Non-trainable params: 0\n",
            "_________________________________________________________________\n"
          ]
        }
      ],
      "source": [
        "# Build the model\n",
        "\n",
        "# Define the optimizer\n",
        "adam_opt = tf.keras.optimizers.Adam(learning_rate=0.0001,\n",
        "                                    beta_1=0.9,\n",
        "                                    beta_2=0.999)\n",
        "# Define the loss\n",
        "loss_ = tf.keras.losses.CategoricalCrossentropy(from_logits=True)\n",
        "\n",
        "# Define the number of units per layer\n",
        "feature_size = 784\n",
        "unit_size = 100\n",
        "n_hidden_layers = 2\n",
        "\n",
        "def build_mlp_model(feature_size, n_hidden_layers, unit_size, opt_, loss_):\n",
        "    model = tf.keras.Sequential([\n",
        "        tf.keras.layers.Dense(unit_size, activation=tf.nn.relu, input_shape=(feature_size,)),\n",
        "        tf.keras.layers.Dense(unit_size, activation=tf.nn.relu),\n",
        "        tf.keras.layers.Dense(10)\n",
        "    ])\n",
        "    \n",
        "    model.compile(optimizer=opt_, \n",
        "                  loss=loss_,\n",
        "                  metrics=['accuracy'])\n",
        "    \n",
        "    return model\n",
        "\n",
        "\n",
        "mlp = build_mlp_model(feature_size, n_hidden_layers, unit_size, adam_opt, loss_)\n",
        "\n",
        "mlp.summary()"
      ]
    },
    {
      "cell_type": "code",
      "execution_count": 9,
      "id": "38ad431f",
      "metadata": {
        "colab": {
          "base_uri": "https://localhost:8080/"
        },
        "id": "38ad431f",
        "outputId": "3c6ebebd-bff7-4cae-bdf8-b11d4c6515b4"
      },
      "outputs": [
        {
          "output_type": "stream",
          "name": "stdout",
          "text": [
            "Epoch 1/50\n",
            "1532/1532 [==============================] - 11s 4ms/step - loss: 0.6472 - accuracy: 0.8341 - val_loss: 0.3067 - val_accuracy: 0.9130\n",
            "Epoch 2/50\n",
            "1532/1532 [==============================] - 6s 4ms/step - loss: 0.2689 - accuracy: 0.9250 - val_loss: 0.2376 - val_accuracy: 0.9298\n",
            "Epoch 3/50\n",
            "1532/1532 [==============================] - 8s 5ms/step - loss: 0.2147 - accuracy: 0.9396 - val_loss: 0.2022 - val_accuracy: 0.9401\n",
            "Epoch 4/50\n",
            "1532/1532 [==============================] - 6s 4ms/step - loss: 0.1819 - accuracy: 0.9489 - val_loss: 0.1773 - val_accuracy: 0.9472\n",
            "Epoch 5/50\n",
            "1532/1532 [==============================] - 6s 4ms/step - loss: 0.1585 - accuracy: 0.9551 - val_loss: 0.1634 - val_accuracy: 0.9531\n",
            "Epoch 6/50\n",
            "1532/1532 [==============================] - 6s 4ms/step - loss: 0.1411 - accuracy: 0.9600 - val_loss: 0.1492 - val_accuracy: 0.9555\n",
            "Epoch 7/50\n",
            "1532/1532 [==============================] - 6s 4ms/step - loss: 0.1268 - accuracy: 0.9636 - val_loss: 0.1383 - val_accuracy: 0.9589\n",
            "Epoch 8/50\n",
            "1532/1532 [==============================] - 6s 4ms/step - loss: 0.1146 - accuracy: 0.9666 - val_loss: 0.1307 - val_accuracy: 0.9618\n",
            "Epoch 9/50\n",
            "1532/1532 [==============================] - 6s 4ms/step - loss: 0.1043 - accuracy: 0.9698 - val_loss: 0.1267 - val_accuracy: 0.9625\n",
            "Epoch 10/50\n",
            "1532/1532 [==============================] - 6s 4ms/step - loss: 0.0954 - accuracy: 0.9725 - val_loss: 0.1201 - val_accuracy: 0.9639\n",
            "Epoch 11/50\n",
            "1532/1532 [==============================] - 6s 4ms/step - loss: 0.0878 - accuracy: 0.9748 - val_loss: 0.1141 - val_accuracy: 0.9650\n",
            "Epoch 12/50\n",
            "1532/1532 [==============================] - 7s 5ms/step - loss: 0.0809 - accuracy: 0.9772 - val_loss: 0.1116 - val_accuracy: 0.9665\n",
            "Epoch 13/50\n",
            "1532/1532 [==============================] - 6s 4ms/step - loss: 0.0746 - accuracy: 0.9788 - val_loss: 0.1076 - val_accuracy: 0.9672\n",
            "Epoch 14/50\n",
            "1532/1532 [==============================] - 7s 4ms/step - loss: 0.0695 - accuracy: 0.9804 - val_loss: 0.1080 - val_accuracy: 0.9671\n",
            "Epoch 15/50\n",
            "1532/1532 [==============================] - 6s 4ms/step - loss: 0.0645 - accuracy: 0.9817 - val_loss: 0.1028 - val_accuracy: 0.9687\n",
            "Epoch 16/50\n",
            "1532/1532 [==============================] - 6s 4ms/step - loss: 0.0595 - accuracy: 0.9833 - val_loss: 0.0988 - val_accuracy: 0.9692\n",
            "Epoch 17/50\n",
            "1532/1532 [==============================] - 6s 4ms/step - loss: 0.0554 - accuracy: 0.9845 - val_loss: 0.0964 - val_accuracy: 0.9709\n",
            "Epoch 18/50\n",
            "1532/1532 [==============================] - 6s 4ms/step - loss: 0.0516 - accuracy: 0.9852 - val_loss: 0.0957 - val_accuracy: 0.9704\n",
            "Epoch 19/50\n",
            "1532/1532 [==============================] - 6s 4ms/step - loss: 0.0481 - accuracy: 0.9868 - val_loss: 0.0960 - val_accuracy: 0.9707\n",
            "Epoch 20/50\n",
            "1532/1532 [==============================] - 7s 4ms/step - loss: 0.0449 - accuracy: 0.9880 - val_loss: 0.0960 - val_accuracy: 0.9708\n",
            "Epoch 21/50\n",
            "1532/1532 [==============================] - 6s 4ms/step - loss: 0.0416 - accuracy: 0.9891 - val_loss: 0.0944 - val_accuracy: 0.9715\n",
            "Epoch 22/50\n",
            "1532/1532 [==============================] - 6s 4ms/step - loss: 0.0390 - accuracy: 0.9896 - val_loss: 0.0927 - val_accuracy: 0.9717\n",
            "Epoch 23/50\n",
            "1532/1532 [==============================] - 6s 4ms/step - loss: 0.0364 - accuracy: 0.9903 - val_loss: 0.0926 - val_accuracy: 0.9718\n",
            "Epoch 24/50\n",
            "1532/1532 [==============================] - 6s 4ms/step - loss: 0.0333 - accuracy: 0.9917 - val_loss: 0.0937 - val_accuracy: 0.9721\n",
            "Epoch 25/50\n",
            "1532/1532 [==============================] - 6s 4ms/step - loss: 0.0314 - accuracy: 0.9917 - val_loss: 0.0918 - val_accuracy: 0.9730\n",
            "Epoch 26/50\n",
            "1532/1532 [==============================] - 6s 4ms/step - loss: 0.0293 - accuracy: 0.9924 - val_loss: 0.0933 - val_accuracy: 0.9723\n",
            "Epoch 27/50\n",
            "1532/1532 [==============================] - 7s 5ms/step - loss: 0.0266 - accuracy: 0.9937 - val_loss: 0.0957 - val_accuracy: 0.9721\n",
            "Epoch 28/50\n",
            "1532/1532 [==============================] - 6s 4ms/step - loss: 0.0254 - accuracy: 0.9938 - val_loss: 0.0928 - val_accuracy: 0.9721\n",
            "Epoch 29/50\n",
            "1532/1532 [==============================] - 6s 4ms/step - loss: 0.0237 - accuracy: 0.9945 - val_loss: 0.0926 - val_accuracy: 0.9728\n",
            "Epoch 30/50\n",
            "1532/1532 [==============================] - 6s 4ms/step - loss: 0.0217 - accuracy: 0.9953 - val_loss: 0.0931 - val_accuracy: 0.9732\n",
            "Epoch 31/50\n",
            "1532/1532 [==============================] - 7s 4ms/step - loss: 0.0200 - accuracy: 0.9958 - val_loss: 0.0979 - val_accuracy: 0.9719\n",
            "Epoch 32/50\n",
            "1532/1532 [==============================] - 6s 4ms/step - loss: 0.0189 - accuracy: 0.9962 - val_loss: 0.0971 - val_accuracy: 0.9728\n",
            "Epoch 33/50\n",
            "1532/1532 [==============================] - 6s 4ms/step - loss: 0.0172 - accuracy: 0.9965 - val_loss: 0.0950 - val_accuracy: 0.9732\n",
            "Epoch 34/50\n",
            "1532/1532 [==============================] - 6s 4ms/step - loss: 0.0159 - accuracy: 0.9969 - val_loss: 0.0932 - val_accuracy: 0.9744\n",
            "Epoch 35/50\n",
            "1532/1532 [==============================] - 6s 4ms/step - loss: 0.0151 - accuracy: 0.9972 - val_loss: 0.0954 - val_accuracy: 0.9734\n",
            "Epoch 36/50\n",
            "1532/1532 [==============================] - 6s 4ms/step - loss: 0.0135 - accuracy: 0.9976 - val_loss: 0.0965 - val_accuracy: 0.9731\n",
            "Epoch 37/50\n",
            "1532/1532 [==============================] - 7s 4ms/step - loss: 0.0124 - accuracy: 0.9978 - val_loss: 0.0968 - val_accuracy: 0.9740\n",
            "Epoch 38/50\n",
            "1532/1532 [==============================] - 6s 4ms/step - loss: 0.0115 - accuracy: 0.9980 - val_loss: 0.0979 - val_accuracy: 0.9738\n",
            "Epoch 39/50\n",
            "1532/1532 [==============================] - 6s 4ms/step - loss: 0.0106 - accuracy: 0.9985 - val_loss: 0.0999 - val_accuracy: 0.9742\n",
            "Epoch 40/50\n",
            "1532/1532 [==============================] - 6s 4ms/step - loss: 0.0099 - accuracy: 0.9985 - val_loss: 0.1003 - val_accuracy: 0.9739\n",
            "Epoch 41/50\n",
            "1532/1532 [==============================] - 6s 4ms/step - loss: 0.0089 - accuracy: 0.9987 - val_loss: 0.0995 - val_accuracy: 0.9743\n",
            "Epoch 42/50\n",
            "1532/1532 [==============================] - 7s 5ms/step - loss: 0.0084 - accuracy: 0.9988 - val_loss: 0.1006 - val_accuracy: 0.9744\n",
            "Epoch 43/50\n",
            "1532/1532 [==============================] - 6s 4ms/step - loss: 0.0075 - accuracy: 0.9991 - val_loss: 0.1009 - val_accuracy: 0.9747\n",
            "Epoch 44/50\n",
            "1532/1532 [==============================] - 7s 5ms/step - loss: 0.0071 - accuracy: 0.9990 - val_loss: 0.1070 - val_accuracy: 0.9737\n",
            "Epoch 45/50\n",
            "1532/1532 [==============================] - 6s 4ms/step - loss: 0.0060 - accuracy: 0.9993 - val_loss: 0.1087 - val_accuracy: 0.9735\n",
            "Epoch 46/50\n",
            "1532/1532 [==============================] - 6s 4ms/step - loss: 0.0058 - accuracy: 0.9992 - val_loss: 0.1087 - val_accuracy: 0.9730\n",
            "Epoch 47/50\n",
            "1532/1532 [==============================] - 6s 4ms/step - loss: 0.0052 - accuracy: 0.9994 - val_loss: 0.1119 - val_accuracy: 0.9737\n",
            "Epoch 48/50\n",
            "1532/1532 [==============================] - 7s 5ms/step - loss: 0.0050 - accuracy: 0.9994 - val_loss: 0.1086 - val_accuracy: 0.9740\n",
            "Epoch 49/50\n",
            "1532/1532 [==============================] - 6s 4ms/step - loss: 0.0046 - accuracy: 0.9994 - val_loss: 0.1118 - val_accuracy: 0.9733\n",
            "Epoch 50/50\n",
            "1532/1532 [==============================] - 6s 4ms/step - loss: 0.0038 - accuracy: 0.9999 - val_loss: 0.1135 - val_accuracy: 0.9739\n"
          ]
        }
      ],
      "source": [
        "# Start training the model\n",
        "\n",
        "batch_size=32\n",
        "early_stop = tf.keras.callbacks.EarlyStopping(monitor='val_loss', patience=50)\n",
        "history = mlp.fit(x_train, y_train, \n",
        "                    epochs=50, \n",
        "                    verbose=1,\n",
        "                    batch_size=batch_size,\n",
        "                    validation_data = (x_test, y_test),\n",
        "                    callbacks=[early_stop])"
      ]
    },
    {
      "cell_type": "markdown",
      "source": [
        "Train & test accuracies are breaking the ceiling at 0.9999 & 0.9739 respectively. What a beast!\n",
        "\n",
        "Task 2 Compare the performance of 2-layer MLP when using different activation functions."
      ],
      "metadata": {
        "id": "yERmgWgMWtJ4"
      },
      "id": "yERmgWgMWtJ4"
    },
    {
      "cell_type": "code",
      "execution_count": 10,
      "id": "8e018503",
      "metadata": {
        "colab": {
          "base_uri": "https://localhost:8080/"
        },
        "id": "8e018503",
        "outputId": "d7973d02-a4ca-4948-93cc-9a47175a92da"
      },
      "outputs": [
        {
          "output_type": "stream",
          "name": "stdout",
          "text": [
            "Model: \"sequential_1\"\n",
            "_________________________________________________________________\n",
            " Layer (type)                Output Shape              Param #   \n",
            "=================================================================\n",
            " dense_3 (Dense)             (None, 100)               78500     \n",
            "                                                                 \n",
            " dense_4 (Dense)             (None, 100)               10100     \n",
            "                                                                 \n",
            " dense_5 (Dense)             (None, 10)                1010      \n",
            "                                                                 \n",
            "=================================================================\n",
            "Total params: 89,610\n",
            "Trainable params: 89,610\n",
            "Non-trainable params: 0\n",
            "_________________________________________________________________\n"
          ]
        }
      ],
      "source": [
        "# Build the model\n",
        "\n",
        "# Define the optimizer\n",
        "adam_opt = tf.keras.optimizers.Adam(learning_rate=0.0001,\n",
        "                                    beta_1=0.9,\n",
        "                                    beta_2=0.999)\n",
        "# Instead of defining the loss, I'm going to use Softmax on the last layer\n",
        "# Define the loss\n",
        "# loss_ = tf.keras.losses.CategoricalCrossentropy(from_logits=True)\n",
        "\n",
        "# Define the number of units per layer\n",
        "feature_size = 784\n",
        "unit_size = 100\n",
        "n_hidden_layers = 2\n",
        "\n",
        "def build_mlp_model(feature_size, n_hidden_layers, unit_size, opt_, loss_):\n",
        "    model = tf.keras.Sequential([\n",
        "        tf.keras.layers.Dense(unit_size, activation=tf.nn.tanh, input_shape=(feature_size,)),\n",
        "        tf.keras.layers.Dense(unit_size, activation=tf.nn.tanh),\n",
        "        tf.keras.layers.Dense(10, activation=tf.nn.softmax)\n",
        "    ])\n",
        "    \n",
        "    model.compile(optimizer=opt_, \n",
        "                  loss=loss_,\n",
        "                  metrics=['accuracy'])\n",
        "    \n",
        "    return model\n",
        "\n",
        "\n",
        "mlp = build_mlp_model(feature_size, n_hidden_layers, unit_size, adam_opt, loss_)\n",
        "\n",
        "mlp.summary()"
      ]
    },
    {
      "cell_type": "code",
      "execution_count": 11,
      "id": "b7f37cd9",
      "metadata": {
        "colab": {
          "base_uri": "https://localhost:8080/"
        },
        "id": "b7f37cd9",
        "outputId": "46a9b63c-5245-40f3-f91c-8b570dd38527"
      },
      "outputs": [
        {
          "output_type": "stream",
          "name": "stdout",
          "text": [
            "Epoch 1/50\n"
          ]
        },
        {
          "output_type": "stream",
          "name": "stderr",
          "text": [
            "/usr/local/lib/python3.9/dist-packages/keras/backend.py:5534: UserWarning: \"`categorical_crossentropy` received `from_logits=True`, but the `output` argument was produced by a Softmax activation and thus does not represent logits. Was this intended?\n",
            "  output, from_logits = _get_logits(\n"
          ]
        },
        {
          "output_type": "stream",
          "name": "stdout",
          "text": [
            "1532/1532 [==============================] - 8s 4ms/step - loss: 0.6234 - accuracy: 0.8440 - val_loss: 0.3369 - val_accuracy: 0.9034\n",
            "Epoch 2/50\n",
            "1532/1532 [==============================] - 6s 4ms/step - loss: 0.2995 - accuracy: 0.9155 - val_loss: 0.2650 - val_accuracy: 0.9218\n",
            "Epoch 3/50\n",
            "1532/1532 [==============================] - 6s 4ms/step - loss: 0.2484 - accuracy: 0.9289 - val_loss: 0.2318 - val_accuracy: 0.9310\n",
            "Epoch 4/50\n",
            "1532/1532 [==============================] - 8s 5ms/step - loss: 0.2149 - accuracy: 0.9380 - val_loss: 0.2080 - val_accuracy: 0.9379\n",
            "Epoch 5/50\n",
            "1532/1532 [==============================] - 6s 4ms/step - loss: 0.1883 - accuracy: 0.9457 - val_loss: 0.1853 - val_accuracy: 0.9440\n",
            "Epoch 6/50\n",
            "1532/1532 [==============================] - 6s 4ms/step - loss: 0.1669 - accuracy: 0.9520 - val_loss: 0.1718 - val_accuracy: 0.9482\n",
            "Epoch 7/50\n",
            "1532/1532 [==============================] - 6s 4ms/step - loss: 0.1495 - accuracy: 0.9568 - val_loss: 0.1559 - val_accuracy: 0.9530\n",
            "Epoch 8/50\n",
            "1532/1532 [==============================] - 7s 4ms/step - loss: 0.1352 - accuracy: 0.9616 - val_loss: 0.1454 - val_accuracy: 0.9560\n",
            "Epoch 9/50\n",
            "1532/1532 [==============================] - 7s 5ms/step - loss: 0.1227 - accuracy: 0.9649 - val_loss: 0.1379 - val_accuracy: 0.9575\n",
            "Epoch 10/50\n",
            "1532/1532 [==============================] - 6s 4ms/step - loss: 0.1120 - accuracy: 0.9684 - val_loss: 0.1304 - val_accuracy: 0.9600\n",
            "Epoch 11/50\n",
            "1532/1532 [==============================] - 6s 4ms/step - loss: 0.1023 - accuracy: 0.9707 - val_loss: 0.1236 - val_accuracy: 0.9630\n",
            "Epoch 12/50\n",
            "1532/1532 [==============================] - 6s 4ms/step - loss: 0.0942 - accuracy: 0.9730 - val_loss: 0.1184 - val_accuracy: 0.9642\n",
            "Epoch 13/50\n",
            "1532/1532 [==============================] - 7s 4ms/step - loss: 0.0861 - accuracy: 0.9754 - val_loss: 0.1128 - val_accuracy: 0.9659\n",
            "Epoch 14/50\n",
            "1532/1532 [==============================] - 6s 4ms/step - loss: 0.0796 - accuracy: 0.9773 - val_loss: 0.1097 - val_accuracy: 0.9671\n",
            "Epoch 15/50\n",
            "1532/1532 [==============================] - 7s 5ms/step - loss: 0.0732 - accuracy: 0.9794 - val_loss: 0.1059 - val_accuracy: 0.9677\n",
            "Epoch 16/50\n",
            "1532/1532 [==============================] - 6s 4ms/step - loss: 0.0675 - accuracy: 0.9813 - val_loss: 0.1031 - val_accuracy: 0.9678\n",
            "Epoch 17/50\n",
            "1532/1532 [==============================] - 7s 4ms/step - loss: 0.0621 - accuracy: 0.9824 - val_loss: 0.1006 - val_accuracy: 0.9689\n",
            "Epoch 18/50\n",
            "1532/1532 [==============================] - 6s 4ms/step - loss: 0.0572 - accuracy: 0.9840 - val_loss: 0.0980 - val_accuracy: 0.9700\n",
            "Epoch 19/50\n",
            "1532/1532 [==============================] - 6s 4ms/step - loss: 0.0524 - accuracy: 0.9855 - val_loss: 0.0958 - val_accuracy: 0.9709\n",
            "Epoch 20/50\n",
            "1532/1532 [==============================] - 7s 5ms/step - loss: 0.0486 - accuracy: 0.9867 - val_loss: 0.0942 - val_accuracy: 0.9713\n",
            "Epoch 21/50\n",
            "1532/1532 [==============================] - 6s 4ms/step - loss: 0.0449 - accuracy: 0.9877 - val_loss: 0.0928 - val_accuracy: 0.9711\n",
            "Epoch 22/50\n",
            "1532/1532 [==============================] - 7s 4ms/step - loss: 0.0412 - accuracy: 0.9889 - val_loss: 0.0945 - val_accuracy: 0.9706\n",
            "Epoch 23/50\n",
            "1532/1532 [==============================] - 6s 4ms/step - loss: 0.0378 - accuracy: 0.9903 - val_loss: 0.0920 - val_accuracy: 0.9716\n",
            "Epoch 24/50\n",
            "1532/1532 [==============================] - 7s 4ms/step - loss: 0.0350 - accuracy: 0.9912 - val_loss: 0.0900 - val_accuracy: 0.9723\n",
            "Epoch 25/50\n",
            "1532/1532 [==============================] - 6s 4ms/step - loss: 0.0321 - accuracy: 0.9920 - val_loss: 0.0910 - val_accuracy: 0.9723\n",
            "Epoch 26/50\n",
            "1532/1532 [==============================] - 7s 5ms/step - loss: 0.0294 - accuracy: 0.9930 - val_loss: 0.0937 - val_accuracy: 0.9709\n",
            "Epoch 27/50\n",
            "1532/1532 [==============================] - 7s 5ms/step - loss: 0.0268 - accuracy: 0.9943 - val_loss: 0.0879 - val_accuracy: 0.9731\n",
            "Epoch 28/50\n",
            "1532/1532 [==============================] - 6s 4ms/step - loss: 0.0247 - accuracy: 0.9946 - val_loss: 0.0879 - val_accuracy: 0.9738\n",
            "Epoch 29/50\n",
            "1532/1532 [==============================] - 7s 4ms/step - loss: 0.0225 - accuracy: 0.9953 - val_loss: 0.0895 - val_accuracy: 0.9728\n",
            "Epoch 30/50\n",
            "1532/1532 [==============================] - 6s 4ms/step - loss: 0.0207 - accuracy: 0.9959 - val_loss: 0.0877 - val_accuracy: 0.9738\n",
            "Epoch 31/50\n",
            "1532/1532 [==============================] - 8s 5ms/step - loss: 0.0187 - accuracy: 0.9965 - val_loss: 0.0920 - val_accuracy: 0.9725\n",
            "Epoch 32/50\n",
            "1532/1532 [==============================] - 7s 5ms/step - loss: 0.0170 - accuracy: 0.9968 - val_loss: 0.0923 - val_accuracy: 0.9723\n",
            "Epoch 33/50\n",
            "1532/1532 [==============================] - 6s 4ms/step - loss: 0.0154 - accuracy: 0.9973 - val_loss: 0.0901 - val_accuracy: 0.9735\n",
            "Epoch 34/50\n",
            "1532/1532 [==============================] - 6s 4ms/step - loss: 0.0140 - accuracy: 0.9977 - val_loss: 0.0919 - val_accuracy: 0.9736\n",
            "Epoch 35/50\n",
            "1532/1532 [==============================] - 6s 4ms/step - loss: 0.0127 - accuracy: 0.9981 - val_loss: 0.0918 - val_accuracy: 0.9741\n",
            "Epoch 36/50\n",
            "1532/1532 [==============================] - 6s 4ms/step - loss: 0.0115 - accuracy: 0.9985 - val_loss: 0.0924 - val_accuracy: 0.9735\n",
            "Epoch 37/50\n",
            "1532/1532 [==============================] - 6s 4ms/step - loss: 0.0103 - accuracy: 0.9987 - val_loss: 0.0915 - val_accuracy: 0.9742\n",
            "Epoch 38/50\n",
            "1532/1532 [==============================] - 6s 4ms/step - loss: 0.0094 - accuracy: 0.9989 - val_loss: 0.0926 - val_accuracy: 0.9739\n",
            "Epoch 39/50\n",
            "1532/1532 [==============================] - 6s 4ms/step - loss: 0.0082 - accuracy: 0.9990 - val_loss: 0.0927 - val_accuracy: 0.9740\n",
            "Epoch 40/50\n",
            "1532/1532 [==============================] - 7s 4ms/step - loss: 0.0075 - accuracy: 0.9992 - val_loss: 0.0954 - val_accuracy: 0.9736\n",
            "Epoch 41/50\n",
            "1532/1532 [==============================] - 6s 4ms/step - loss: 0.0067 - accuracy: 0.9994 - val_loss: 0.0962 - val_accuracy: 0.9734\n",
            "Epoch 42/50\n",
            "1532/1532 [==============================] - 8s 5ms/step - loss: 0.0060 - accuracy: 0.9994 - val_loss: 0.0955 - val_accuracy: 0.9744\n",
            "Epoch 43/50\n",
            "1532/1532 [==============================] - 7s 5ms/step - loss: 0.0052 - accuracy: 0.9996 - val_loss: 0.0988 - val_accuracy: 0.9735\n",
            "Epoch 44/50\n",
            "1532/1532 [==============================] - 6s 4ms/step - loss: 0.0047 - accuracy: 0.9996 - val_loss: 0.0996 - val_accuracy: 0.9745\n",
            "Epoch 45/50\n",
            "1532/1532 [==============================] - 7s 5ms/step - loss: 0.0042 - accuracy: 0.9997 - val_loss: 0.0981 - val_accuracy: 0.9746\n",
            "Epoch 46/50\n",
            "1532/1532 [==============================] - 7s 4ms/step - loss: 0.0036 - accuracy: 0.9998 - val_loss: 0.1019 - val_accuracy: 0.9743\n",
            "Epoch 47/50\n",
            "1532/1532 [==============================] - 6s 4ms/step - loss: 0.0034 - accuracy: 0.9997 - val_loss: 0.1039 - val_accuracy: 0.9737\n",
            "Epoch 48/50\n",
            "1532/1532 [==============================] - 7s 5ms/step - loss: 0.0028 - accuracy: 0.9999 - val_loss: 0.1048 - val_accuracy: 0.9742\n",
            "Epoch 49/50\n",
            "1532/1532 [==============================] - 6s 4ms/step - loss: 0.0025 - accuracy: 0.9999 - val_loss: 0.1065 - val_accuracy: 0.9746\n",
            "Epoch 50/50\n",
            "1532/1532 [==============================] - 7s 4ms/step - loss: 0.0024 - accuracy: 0.9998 - val_loss: 0.1060 - val_accuracy: 0.9738\n"
          ]
        }
      ],
      "source": [
        "# Start training the model using a tanh activation function\n",
        "\n",
        "batch_size=32\n",
        "early_stop = tf.keras.callbacks.EarlyStopping(monitor='val_loss', patience=50)\n",
        "history = mlp.fit(x_train, y_train, \n",
        "                    epochs=50, \n",
        "                    verbose=1,\n",
        "                    batch_size=batch_size,\n",
        "                    validation_data = (x_test, y_test),\n",
        "                    callbacks=[early_stop])"
      ]
    },
    {
      "cell_type": "markdown",
      "source": [
        "Fun Fact: you can stop training if you \"can't\" wait anymore.\n",
        "\n",
        "Train accuracy: 0.9998\n",
        "Test accuracy: 0.9738\n",
        "\n",
        "We are up & running!"
      ],
      "metadata": {
        "id": "CIz58HICYXkt"
      },
      "id": "CIz58HICYXkt"
    },
    {
      "cell_type": "code",
      "execution_count": 12,
      "id": "f9fe5a89",
      "metadata": {
        "colab": {
          "base_uri": "https://localhost:8080/"
        },
        "id": "f9fe5a89",
        "outputId": "46372180-c747-4510-e16e-223eb9b988e1"
      },
      "outputs": [
        {
          "output_type": "stream",
          "name": "stdout",
          "text": [
            "Model: \"sequential_2\"\n",
            "_________________________________________________________________\n",
            " Layer (type)                Output Shape              Param #   \n",
            "=================================================================\n",
            " dense_6 (Dense)             (None, 100)               78500     \n",
            "                                                                 \n",
            " dense_7 (Dense)             (None, 100)               10100     \n",
            "                                                                 \n",
            " dense_8 (Dense)             (None, 10)                1010      \n",
            "                                                                 \n",
            "=================================================================\n",
            "Total params: 89,610\n",
            "Trainable params: 89,610\n",
            "Non-trainable params: 0\n",
            "_________________________________________________________________\n"
          ]
        }
      ],
      "source": [
        "# Build the model\n",
        "\n",
        "# Define the optimizer\n",
        "adam_opt = tf.keras.optimizers.Adam(learning_rate=0.0001,\n",
        "                                    beta_1=0.9,\n",
        "                                    beta_2=0.999)\n",
        "# Define the loss\n",
        "loss_ = tf.keras.losses.CategoricalCrossentropy(from_logits=True)\n",
        "\n",
        "# Define the number of units per layer\n",
        "feature_size = 784\n",
        "unit_size = 100\n",
        "n_hidden_layers = 2\n",
        "\n",
        "def build_mlp_model(feature_size, n_hidden_layers, unit_size, opt_, loss_):\n",
        "    model = tf.keras.Sequential([\n",
        "        tf.keras.layers.Dense(unit_size, activation=tf.nn.sigmoid, input_shape=(feature_size,)),\n",
        "        tf.keras.layers.Dense(unit_size, activation=tf.nn.sigmoid),\n",
        "        tf.keras.layers.Dense(10)\n",
        "    ])\n",
        "    \n",
        "    model.compile(optimizer=opt_, \n",
        "                  loss=loss_,\n",
        "                  metrics=['accuracy'])\n",
        "    \n",
        "    return model\n",
        "\n",
        "\n",
        "mlp = build_mlp_model(feature_size, n_hidden_layers, unit_size, adam_opt, loss_)\n",
        "\n",
        "mlp.summary()"
      ]
    },
    {
      "cell_type": "code",
      "execution_count": 13,
      "id": "e83362ba",
      "metadata": {
        "colab": {
          "base_uri": "https://localhost:8080/",
          "height": 1000
        },
        "id": "e83362ba",
        "outputId": "1903d46e-be80-47a7-b545-0e4cda8a2240"
      },
      "outputs": [
        {
          "output_type": "stream",
          "name": "stdout",
          "text": [
            "Epoch 1/50\n",
            "1532/1532 [==============================] - 7s 4ms/step - loss: 1.6171 - accuracy: 0.6396 - val_loss: 1.0035 - val_accuracy: 0.8033\n",
            "Epoch 2/50\n",
            "1532/1532 [==============================] - 7s 4ms/step - loss: 0.7375 - accuracy: 0.8527 - val_loss: 0.5536 - val_accuracy: 0.8780\n",
            "Epoch 3/50\n",
            "1532/1532 [==============================] - 6s 4ms/step - loss: 0.4656 - accuracy: 0.8923 - val_loss: 0.3973 - val_accuracy: 0.8992\n",
            "Epoch 4/50\n",
            "1532/1532 [==============================] - 7s 5ms/step - loss: 0.3625 - accuracy: 0.9065 - val_loss: 0.3308 - val_accuracy: 0.9081\n",
            "Epoch 5/50\n",
            "1532/1532 [==============================] - 6s 4ms/step - loss: 0.3135 - accuracy: 0.9143 - val_loss: 0.2948 - val_accuracy: 0.9145\n",
            "Epoch 6/50\n",
            "1532/1532 [==============================] - 6s 4ms/step - loss: 0.2838 - accuracy: 0.9202 - val_loss: 0.2725 - val_accuracy: 0.9204\n",
            "Epoch 7/50\n",
            "1532/1532 [==============================] - 8s 5ms/step - loss: 0.2628 - accuracy: 0.9252 - val_loss: 0.2565 - val_accuracy: 0.9244\n",
            "Epoch 8/50\n",
            "1532/1532 [==============================] - 6s 4ms/step - loss: 0.2462 - accuracy: 0.9291 - val_loss: 0.2410 - val_accuracy: 0.9280\n",
            "Epoch 9/50\n",
            "1532/1532 [==============================] - 7s 4ms/step - loss: 0.2322 - accuracy: 0.9324 - val_loss: 0.2294 - val_accuracy: 0.9304\n",
            "Epoch 10/50\n",
            "1532/1532 [==============================] - 6s 4ms/step - loss: 0.2199 - accuracy: 0.9356 - val_loss: 0.2203 - val_accuracy: 0.9335\n",
            "Epoch 11/50\n",
            "1532/1532 [==============================] - 6s 4ms/step - loss: 0.2089 - accuracy: 0.9392 - val_loss: 0.2099 - val_accuracy: 0.9366\n",
            "Epoch 12/50\n",
            "1532/1532 [==============================] - 7s 5ms/step - loss: 0.1991 - accuracy: 0.9421 - val_loss: 0.2012 - val_accuracy: 0.9389\n",
            "Epoch 13/50\n",
            "1532/1532 [==============================] - 6s 4ms/step - loss: 0.1898 - accuracy: 0.9449 - val_loss: 0.1933 - val_accuracy: 0.9405\n",
            "Epoch 14/50\n",
            "1532/1532 [==============================] - 7s 4ms/step - loss: 0.1814 - accuracy: 0.9473 - val_loss: 0.1863 - val_accuracy: 0.9434\n",
            "Epoch 15/50\n",
            "1532/1532 [==============================] - 7s 4ms/step - loss: 0.1735 - accuracy: 0.9494 - val_loss: 0.1801 - val_accuracy: 0.9455\n",
            "Epoch 16/50\n",
            "1532/1532 [==============================] - 7s 4ms/step - loss: 0.1664 - accuracy: 0.9520 - val_loss: 0.1743 - val_accuracy: 0.9467\n",
            "Epoch 17/50\n",
            "1532/1532 [==============================] - 6s 4ms/step - loss: 0.1594 - accuracy: 0.9538 - val_loss: 0.1682 - val_accuracy: 0.9484\n",
            "Epoch 18/50\n",
            "1532/1532 [==============================] - 7s 4ms/step - loss: 0.1526 - accuracy: 0.9560 - val_loss: 0.1628 - val_accuracy: 0.9501\n",
            "Epoch 19/50\n",
            "1532/1532 [==============================] - 6s 4ms/step - loss: 0.1465 - accuracy: 0.9574 - val_loss: 0.1583 - val_accuracy: 0.9514\n",
            "Epoch 20/50\n",
            "1532/1532 [==============================] - 6s 4ms/step - loss: 0.1408 - accuracy: 0.9590 - val_loss: 0.1536 - val_accuracy: 0.9531\n",
            "Epoch 21/50\n",
            "1532/1532 [==============================] - 7s 5ms/step - loss: 0.1350 - accuracy: 0.9612 - val_loss: 0.1491 - val_accuracy: 0.9544\n",
            "Epoch 22/50\n",
            "1532/1532 [==============================] - 6s 4ms/step - loss: 0.1296 - accuracy: 0.9625 - val_loss: 0.1455 - val_accuracy: 0.9559\n",
            "Epoch 23/50\n",
            "1532/1532 [==============================] - 6s 4ms/step - loss: 0.1248 - accuracy: 0.9640 - val_loss: 0.1405 - val_accuracy: 0.9571\n",
            "Epoch 24/50\n",
            "1532/1532 [==============================] - 6s 4ms/step - loss: 0.1199 - accuracy: 0.9655 - val_loss: 0.1364 - val_accuracy: 0.9592\n",
            "Epoch 25/50\n",
            "1532/1532 [==============================] - 6s 4ms/step - loss: 0.1154 - accuracy: 0.9665 - val_loss: 0.1324 - val_accuracy: 0.9598\n",
            "Epoch 26/50\n",
            "1532/1532 [==============================] - 8s 5ms/step - loss: 0.1109 - accuracy: 0.9676 - val_loss: 0.1293 - val_accuracy: 0.9606\n",
            "Epoch 27/50\n",
            "1532/1532 [==============================] - 7s 4ms/step - loss: 0.1067 - accuracy: 0.9694 - val_loss: 0.1267 - val_accuracy: 0.9619\n",
            "Epoch 28/50\n",
            "1532/1532 [==============================] - 7s 5ms/step - loss: 0.1029 - accuracy: 0.9704 - val_loss: 0.1236 - val_accuracy: 0.9621\n",
            "Epoch 29/50\n",
            "1532/1532 [==============================] - 6s 4ms/step - loss: 0.0991 - accuracy: 0.9714 - val_loss: 0.1207 - val_accuracy: 0.9630\n",
            "Epoch 30/50\n",
            "1532/1532 [==============================] - 6s 4ms/step - loss: 0.0956 - accuracy: 0.9725 - val_loss: 0.1194 - val_accuracy: 0.9633\n",
            "Epoch 31/50\n",
            "1532/1532 [==============================] - 6s 4ms/step - loss: 0.0919 - accuracy: 0.9734 - val_loss: 0.1169 - val_accuracy: 0.9643\n",
            "Epoch 32/50\n",
            "1532/1532 [==============================] - 7s 5ms/step - loss: 0.0889 - accuracy: 0.9745 - val_loss: 0.1130 - val_accuracy: 0.9653\n",
            "Epoch 33/50\n",
            "1532/1532 [==============================] - 6s 4ms/step - loss: 0.0858 - accuracy: 0.9757 - val_loss: 0.1115 - val_accuracy: 0.9657\n",
            "Epoch 34/50\n",
            "1532/1532 [==============================] - 7s 4ms/step - loss: 0.0827 - accuracy: 0.9766 - val_loss: 0.1086 - val_accuracy: 0.9666\n",
            "Epoch 35/50\n",
            "1532/1532 [==============================] - 7s 4ms/step - loss: 0.0797 - accuracy: 0.9774 - val_loss: 0.1069 - val_accuracy: 0.9671\n",
            "Epoch 36/50\n",
            "1532/1532 [==============================] - 6s 4ms/step - loss: 0.0771 - accuracy: 0.9784 - val_loss: 0.1054 - val_accuracy: 0.9685\n",
            "Epoch 37/50\n",
            "1532/1532 [==============================] - 8s 5ms/step - loss: 0.0743 - accuracy: 0.9790 - val_loss: 0.1045 - val_accuracy: 0.9677\n",
            "Epoch 38/50\n",
            "1532/1532 [==============================] - 6s 4ms/step - loss: 0.0717 - accuracy: 0.9799 - val_loss: 0.1045 - val_accuracy: 0.9674\n",
            "Epoch 39/50\n",
            "1532/1532 [==============================] - 7s 4ms/step - loss: 0.0693 - accuracy: 0.9807 - val_loss: 0.1005 - val_accuracy: 0.9692\n",
            "Epoch 40/50\n",
            "1532/1532 [==============================] - 6s 4ms/step - loss: 0.0670 - accuracy: 0.9810 - val_loss: 0.0999 - val_accuracy: 0.9694\n",
            "Epoch 41/50\n",
            "1532/1532 [==============================] - 7s 4ms/step - loss: 0.0645 - accuracy: 0.9819 - val_loss: 0.0979 - val_accuracy: 0.9710\n",
            "Epoch 42/50\n",
            "1532/1532 [==============================] - 6s 4ms/step - loss: 0.0622 - accuracy: 0.9827 - val_loss: 0.0965 - val_accuracy: 0.9712\n",
            "Epoch 43/50\n",
            "1532/1532 [==============================] - 7s 5ms/step - loss: 0.0602 - accuracy: 0.9830 - val_loss: 0.0954 - val_accuracy: 0.9717\n",
            "Epoch 44/50\n",
            "1532/1532 [==============================] - 7s 5ms/step - loss: 0.0581 - accuracy: 0.9839 - val_loss: 0.0939 - val_accuracy: 0.9716\n",
            "Epoch 45/50\n",
            "1532/1532 [==============================] - 6s 4ms/step - loss: 0.0561 - accuracy: 0.9845 - val_loss: 0.0929 - val_accuracy: 0.9720\n",
            "Epoch 46/50\n",
            "1532/1532 [==============================] - 7s 4ms/step - loss: 0.0540 - accuracy: 0.9854 - val_loss: 0.0918 - val_accuracy: 0.9725\n",
            "Epoch 47/50\n",
            "1532/1532 [==============================] - 6s 4ms/step - loss: 0.0522 - accuracy: 0.9863 - val_loss: 0.0914 - val_accuracy: 0.9728\n",
            "Epoch 48/50\n",
            "1532/1532 [==============================] - 7s 5ms/step - loss: 0.0504 - accuracy: 0.9863 - val_loss: 0.0901 - val_accuracy: 0.9734\n",
            "Epoch 49/50\n",
            "1532/1532 [==============================] - 6s 4ms/step - loss: 0.0487 - accuracy: 0.9870 - val_loss: 0.0891 - val_accuracy: 0.9735\n",
            "Epoch 50/50\n",
            "1532/1532 [==============================] - 6s 4ms/step - loss: 0.0468 - accuracy: 0.9877 - val_loss: 0.0916 - val_accuracy: 0.9722\n"
          ]
        },
        {
          "output_type": "error",
          "ename": "KeyboardInterrupt",
          "evalue": "ignored",
          "traceback": [
            "\u001b[0;31m---------------------------------------------------------------------------\u001b[0m",
            "\u001b[0;31mKeyboardInterrupt\u001b[0m                         Traceback (most recent call last)",
            "\u001b[0;32m<ipython-input-13-0c39d1cb91f4>\u001b[0m in \u001b[0;36m<module>\u001b[0;34m\u001b[0m\n\u001b[1;32m      3\u001b[0m \u001b[0mbatch_size\u001b[0m\u001b[0;34m=\u001b[0m\u001b[0;36m32\u001b[0m\u001b[0;34m\u001b[0m\u001b[0;34m\u001b[0m\u001b[0m\n\u001b[1;32m      4\u001b[0m \u001b[0mearly_stop\u001b[0m \u001b[0;34m=\u001b[0m \u001b[0mtf\u001b[0m\u001b[0;34m.\u001b[0m\u001b[0mkeras\u001b[0m\u001b[0;34m.\u001b[0m\u001b[0mcallbacks\u001b[0m\u001b[0;34m.\u001b[0m\u001b[0mEarlyStopping\u001b[0m\u001b[0;34m(\u001b[0m\u001b[0mmonitor\u001b[0m\u001b[0;34m=\u001b[0m\u001b[0;34m'val_loss'\u001b[0m\u001b[0;34m,\u001b[0m \u001b[0mpatience\u001b[0m\u001b[0;34m=\u001b[0m\u001b[0;36m50\u001b[0m\u001b[0;34m)\u001b[0m\u001b[0;34m\u001b[0m\u001b[0;34m\u001b[0m\u001b[0m\n\u001b[0;32m----> 5\u001b[0;31m history = mlp.fit(x_train, y_train, \n\u001b[0m\u001b[1;32m      6\u001b[0m                     \u001b[0mepochs\u001b[0m\u001b[0;34m=\u001b[0m\u001b[0;36m50\u001b[0m\u001b[0;34m,\u001b[0m\u001b[0;34m\u001b[0m\u001b[0;34m\u001b[0m\u001b[0m\n\u001b[1;32m      7\u001b[0m                     \u001b[0mverbose\u001b[0m\u001b[0;34m=\u001b[0m\u001b[0;36m1\u001b[0m\u001b[0;34m,\u001b[0m\u001b[0;34m\u001b[0m\u001b[0;34m\u001b[0m\u001b[0m\n",
            "\u001b[0;32m/usr/local/lib/python3.9/dist-packages/keras/utils/traceback_utils.py\u001b[0m in \u001b[0;36merror_handler\u001b[0;34m(*args, **kwargs)\u001b[0m\n\u001b[1;32m     63\u001b[0m         \u001b[0mfiltered_tb\u001b[0m \u001b[0;34m=\u001b[0m \u001b[0;32mNone\u001b[0m\u001b[0;34m\u001b[0m\u001b[0;34m\u001b[0m\u001b[0m\n\u001b[1;32m     64\u001b[0m         \u001b[0;32mtry\u001b[0m\u001b[0;34m:\u001b[0m\u001b[0;34m\u001b[0m\u001b[0;34m\u001b[0m\u001b[0m\n\u001b[0;32m---> 65\u001b[0;31m             \u001b[0;32mreturn\u001b[0m \u001b[0mfn\u001b[0m\u001b[0;34m(\u001b[0m\u001b[0;34m*\u001b[0m\u001b[0margs\u001b[0m\u001b[0;34m,\u001b[0m \u001b[0;34m**\u001b[0m\u001b[0mkwargs\u001b[0m\u001b[0;34m)\u001b[0m\u001b[0;34m\u001b[0m\u001b[0;34m\u001b[0m\u001b[0m\n\u001b[0m\u001b[1;32m     66\u001b[0m         \u001b[0;32mexcept\u001b[0m \u001b[0mException\u001b[0m \u001b[0;32mas\u001b[0m \u001b[0me\u001b[0m\u001b[0;34m:\u001b[0m\u001b[0;34m\u001b[0m\u001b[0;34m\u001b[0m\u001b[0m\n\u001b[1;32m     67\u001b[0m             \u001b[0mfiltered_tb\u001b[0m \u001b[0;34m=\u001b[0m \u001b[0m_process_traceback_frames\u001b[0m\u001b[0;34m(\u001b[0m\u001b[0me\u001b[0m\u001b[0;34m.\u001b[0m\u001b[0m__traceback__\u001b[0m\u001b[0;34m)\u001b[0m\u001b[0;34m\u001b[0m\u001b[0;34m\u001b[0m\u001b[0m\n",
            "\u001b[0;31mKeyboardInterrupt\u001b[0m: "
          ]
        }
      ],
      "source": [
        "# Start training the model using a sigmoid activation function\n",
        "\n",
        "batch_size=32\n",
        "early_stop = tf.keras.callbacks.EarlyStopping(monitor='val_loss', patience=50)\n",
        "history = mlp.fit(x_train, y_train, \n",
        "                    epochs=50, \n",
        "                    verbose=1,\n",
        "                    batch_size=batch_size,\n",
        "                    validation_data = (x_test, y_test),\n",
        "                    callbacks=[early_stop])"
      ]
    },
    {
      "cell_type": "markdown",
      "source": [
        " Training accuracy is 0.9877 and test accuracy is 0.9722 after 50 epochs. Snap."
      ],
      "metadata": {
        "id": "slm3USOVaeZh"
      },
      "id": "slm3USOVaeZh"
    }
  ],
  "metadata": {
    "kernelspec": {
      "display_name": "Python 3",
      "name": "python3"
    },
    "language_info": {
      "name": "python"
    },
    "colab": {
      "provenance": []
    },
    "accelerator": "GPU",
    "gpuClass": "standard"
  },
  "nbformat": 4,
  "nbformat_minor": 5
}